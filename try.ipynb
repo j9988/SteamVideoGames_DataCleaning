{
 "cells": [
  {
   "cell_type": "code",
   "execution_count": 4,
   "id": "efeedc0d",
   "metadata": {},
   "outputs": [],
   "source": [
    "import pandas as pd\n",
    "import requests\n",
    "import re\n",
    "from rapidfuzz import process, fuzz\n",
    "from concurrent.futures import ThreadPoolExecutor, as_completed\n",
    "import time\n",
    "from tqdm import tqdm"
   ]
  },
  {
   "cell_type": "code",
   "execution_count": 5,
   "id": "cd5686cc",
   "metadata": {},
   "outputs": [],
   "source": [
    "# === Step 1: Load dataset ===\n",
    "csv_path = \"D:/hp/Documents/CDS513/Assignment/steam-200k.csv\"\n",
    "df = pd.read_csv(csv_path, header = None, \n",
    "                 names=[\"Player_ID\", \"Name\", \"Behavior\", \"Hours\", \"Ignore\"])\n",
    "\n",
    "game_names = df['Name'].astype(str).tolist()\n",
    "df['Name'] = df['Name'].astype(str)"
   ]
  },
  {
   "cell_type": "code",
   "execution_count": 6,
   "id": "868971d2",
   "metadata": {},
   "outputs": [
    {
     "name": "stdout",
     "output_type": "stream",
     "text": [
      "Downloading Steam app list...\n"
     ]
    }
   ],
   "source": [
    "# === Step 2: Get all Steam apps ===\n",
    "print(\"Downloading Steam app list...\")\n",
    "applist_url = \"https://api.steampowered.com/ISteamApps/GetAppList/v2/\"\n",
    "response = requests.get(applist_url)\n",
    "apps = response.json()['applist']['apps']\n",
    "app_df = pd.DataFrame(apps)"
   ]
  },
  {
   "cell_type": "code",
   "execution_count": 7,
   "id": "7304ecba",
   "metadata": {},
   "outputs": [],
   "source": [
    "# === Normalize function ===\n",
    "def normalize(text):\n",
    "    text = str(text).lower()\n",
    "    return re.sub(r'[^\\w\\s]', '', text).strip()\n",
    "\n",
    "df['normalized_name'] = df['Name'].apply(normalize)\n",
    "app_df['normalized_name'] = app_df['name'].apply(normalize)\n",
    "steam_names = app_df['normalized_name'].tolist()"
   ]
  },
  {
   "cell_type": "code",
   "execution_count": 8,
   "id": "694ace91",
   "metadata": {},
   "outputs": [
    {
     "name": "stdout",
     "output_type": "stream",
     "text": [
      "Matching game names in parallel...\n"
     ]
    }
   ],
   "source": [
    "# === Step 3: Parallel fuzzy matching ===\n",
    "print(\"Matching game names in parallel...\")\n",
    "\n",
    "def match_game(name):\n",
    "    match, score, idx = process.extractOne(name, steam_names, scorer=fuzz.token_sort_ratio)\n",
    "    steam_row = app_df.iloc[idx]\n",
    "    return steam_row['name'], steam_row['appid'], score"
   ]
  },
  {
   "cell_type": "code",
   "execution_count": null,
   "id": "0bf136de",
   "metadata": {},
   "outputs": [
    {
     "name": "stdout",
     "output_type": "stream",
     "text": [
      "Loop 1\n"
     ]
    },
    {
     "name": "stderr",
     "output_type": "stream",
     "text": [
      "Submitting tasks:   0%|                                                         | 92/200000 [01:23<51:21:59,  1.08it/s]"
     ]
    }
   ],
   "source": [
    "from concurrent.futures import ProcessPoolExecutor\n",
    "\n",
    "results = []\n",
    "with ThreadPoolExecutor(max_workers=16) as executor:\n",
    "    \n",
    "    print(\"Loop 1\")\n",
    "    \n",
    "    futures = [executor.submit(match_game, name) for name in tqdm(df['normalized_name'], desc=\"Submitting tasks\")]\n",
    "    \n",
    "    print(\"Loop 2\")\n",
    "    \n",
    "    for f in tqdm(as_completed(futures), total=len(futures), desc=\"Fuzzy Matching\"):\n",
    "        \n",
    "        print(\"Loop 3\")\n",
    "        \n",
    "        results.append(f.result())"
   ]
  },
  {
   "cell_type": "code",
   "execution_count": null,
   "id": "caf50326",
   "metadata": {},
   "outputs": [],
   "source": [
    "matched_names, appids, scores = zip(*results)\n",
    "df['matched_name'] = matched_names\n",
    "df['appid'] = appids\n",
    "df['match_score'] = scores"
   ]
  },
  {
   "cell_type": "code",
   "execution_count": null,
   "id": "dbc1a177",
   "metadata": {},
   "outputs": [],
   "source": [
    "# === Step 4: Parallel genre + release year fetch ===\n",
    "print(\"Fetching genre and release year info...\")\n",
    "\n",
    "def fetch_genre_and_year(appid):\n",
    "    url = f\"https://store.steampowered.com/api/appdetails?appids={appid}\"\n",
    "    try:\n",
    "        res = requests.get(url, timeout=5)\n",
    "        data = res.json().get(str(appid), {}).get('data', {})\n",
    "        release = data.get('release_date', {}).get('date', '')\n",
    "        match = re.search(r'\\b(\\d{4})\\b', release)\n",
    "        year = int(match.group(1)) if match else None\n",
    "        genres = [g['description'] for g in data.get('genres', [])] if year and year <= 2017 else []\n",
    "        return \", \".join(genres), year, year is None or year > 2017\n",
    "    except:\n",
    "        return None, None, True\n",
    "\n",
    "genre_results=[]\n",
    "with ThreadPoolExecutor(max_workers=16) as executor:\n",
    "    genre_futures = [executor.submit(fetch_genre_and_year, aid) for aid in tqdm(df['appid'], desc=\"📤 Submitting genre tasks\")]\n",
    "    for f in tqdm(as_completed(futures), total=len(futures), desc=\"📚 Fetching genre/release\"):\n",
    "        genre_results.append(f.result())"
   ]
  },
  {
   "cell_type": "code",
   "execution_count": null,
   "id": "b68fbbf7",
   "metadata": {},
   "outputs": [],
   "source": [
    "# Unpack results\n",
    "genre_list, release_years, filtered_flags = zip(*genre_results)\n",
    "df['genres'] = genre_list\n",
    "df['release_year'] = release_years\n",
    "df['filtered_out'] = filtered_flags"
   ]
  },
  {
   "cell_type": "code",
   "execution_count": null,
   "id": "8479517e",
   "metadata": {},
   "outputs": [],
   "source": [
    "# === Step 5: Save result ===\n",
    "output_path = \"dataset_with_steam_info_filtered.csv\"\n",
    "df.to_csv(output_path, index=False)\n",
    "print(f\"✅ Done! Saved to {output_path}\")"
   ]
  }
 ],
 "metadata": {
  "kernelspec": {
   "display_name": "Python 3 (ipykernel)",
   "language": "python",
   "name": "python3"
  },
  "language_info": {
   "codemirror_mode": {
    "name": "ipython",
    "version": 3
   },
   "file_extension": ".py",
   "mimetype": "text/x-python",
   "name": "python",
   "nbconvert_exporter": "python",
   "pygments_lexer": "ipython3",
   "version": "3.8.2"
  }
 },
 "nbformat": 4,
 "nbformat_minor": 5
}
